{
 "cells": [
  {
   "cell_type": "code",
   "execution_count": 1,
   "metadata": {},
   "outputs": [
    {
     "name": "stdout",
     "output_type": "stream",
     "text": [
      "total 8\n",
      "-rw-rw-r-- 1 zano zano    0 Jun  9 02:48 parse.ipynb\n",
      "drwxrwxr-x 2 zano zano 4096 Jun  9 02:46 __pycache__\n",
      "-rw-rw-r-- 1 zano zano 3246 Jun  9 02:46 run_tasks.py\n"
     ]
    },
    {
     "data": {
      "text/plain": [
       "0"
      ]
     },
     "execution_count": 1,
     "metadata": {},
     "output_type": "execute_result"
    }
   ],
   "source": [
    "import os\n",
    "cmd = 'ls -l'\n",
    "os.system(cmd)"
   ]
  },
  {
   "cell_type": "code",
   "execution_count": 13,
   "metadata": {},
   "outputs": [],
   "source": [
    "import subprocess\n",
    "temp = subprocess.Popen([\"lscpu\"], stdout = subprocess.PIPE)\n",
    "    \n",
    "# we use the communicate function\n",
    "# to fetch the output\n",
    "output = str(temp.communicate())"
   ]
  },
  {
   "cell_type": "code",
   "execution_count": 21,
   "metadata": {},
   "outputs": [],
   "source": []
  },
  {
   "cell_type": "code",
   "execution_count": 43,
   "metadata": {},
   "outputs": [
    {
     "data": {
      "text/plain": [
       "{'Architecture': 'x86_64',\n",
       " 'CPU op-mode(s)': '32-bit, 64-bit',\n",
       " 'Byte Order': 'Little Endian',\n",
       " 'Address sizes': '44 bits physical, 48 bits virtual',\n",
       " 'CPU(s)': '16',\n",
       " 'On-line CPU(s) list': '0-15',\n",
       " 'Thread(s) per core': '2',\n",
       " 'Core(s) per socket': '8',\n",
       " 'Socket(s)': '1',\n",
       " 'NUMA node(s)': '1',\n",
       " 'Vendor ID': 'AuthenticAMD',\n",
       " 'CPU family': '23',\n",
       " 'Model': '96',\n",
       " 'Model name': 'AMD Ryzen 7 4800H with Radeon Graphics',\n",
       " 'Stepping': '1',\n",
       " 'Frequency boost': 'enabled',\n",
       " 'CPU MHz': '1700.000',\n",
       " 'CPU max MHz': '2900.0000',\n",
       " 'CPU min MHz': '1400.0000',\n",
       " 'BogoMIPS': '5789.05',\n",
       " 'Virtualization': 'AMD-V',\n",
       " 'L1d cache': '256 KiB',\n",
       " 'L1i cache': '256 KiB',\n",
       " 'L2 cache': '4 MiB',\n",
       " 'L3 cache': '8 MiB'}"
      ]
     },
     "execution_count": 43,
     "metadata": {},
     "output_type": "execute_result"
    }
   ],
   "source": [
    "dic={}\n",
    "x=output.split(\"\\n\")[0].split(\"\\\\\")\n",
    "for c,i in enumerate(x):\n",
    "    if c<25:\n",
    "        if c==0:\n",
    "            dic[i[3:].split(\":\")[0]]=i[3:].split(\":\")[1].strip() \n",
    "        if c!=0:\n",
    "            dic[i[1:].split(\":\")[0]]=i[1:].split(\":\")[1].strip()\n",
    "dic"
   ]
  },
  {
   "cell_type": "code",
   "execution_count": null,
   "metadata": {},
   "outputs": [],
   "source": []
  }
 ],
 "metadata": {
  "interpreter": {
   "hash": "916dbcbb3f70747c44a77c7bcd40155683ae19c65e1c03b4aa3499c5328201f1"
  },
  "kernelspec": {
   "display_name": "Python 3.8.10 64-bit",
   "language": "python",
   "name": "python3"
  },
  "language_info": {
   "codemirror_mode": {
    "name": "ipython",
    "version": 3
   },
   "file_extension": ".py",
   "mimetype": "text/x-python",
   "name": "python",
   "nbconvert_exporter": "python",
   "pygments_lexer": "ipython3",
   "version": "3.8.10"
  },
  "orig_nbformat": 4
 },
 "nbformat": 4,
 "nbformat_minor": 2
}
