{
 "cells": [
  {
   "cell_type": "code",
   "execution_count": 1,
   "metadata": {},
   "outputs": [
    {
     "name": "stdout",
     "output_type": "stream",
     "text": [
      "total 8\n",
      "-rw-rw-r-- 1 zano zano    0 Jun  9 02:48 parse.ipynb\n",
      "drwxrwxr-x 2 zano zano 4096 Jun  9 02:46 __pycache__\n",
      "-rw-rw-r-- 1 zano zano 3246 Jun  9 02:46 run_tasks.py\n"
     ]
    },
    {
     "data": {
      "text/plain": [
       "0"
      ]
     },
     "execution_count": 1,
     "metadata": {},
     "output_type": "execute_result"
    }
   ],
   "source": [
    "import os\n",
    "cmd = 'ls -l'\n",
    "os.system(cmd)"
   ]
  },
  {
   "cell_type": "code",
   "execution_count": 13,
   "metadata": {},
   "outputs": [],
   "source": [
    "import subprocess\n",
    "temp = subprocess.Popen([\"lscpu\"], stdout = subprocess.PIPE)\n",
    "    \n",
    "# we use the communicate function\n",
    "# to fetch the output\n",
    "output = str(temp.communicate())"
   ]
  },
  {
   "cell_type": "code",
   "execution_count": 21,
   "metadata": {},
   "outputs": [],
   "source": []
  },
  {
   "cell_type": "code",
   "execution_count": 43,
   "metadata": {},
   "outputs": [
    {
     "data": {
      "text/plain": [
       "{'Architecture': 'x86_64',\n",
       " 'CPU op-mode(s)': '32-bit, 64-bit',\n",
       " 'Byte Order': 'Little Endian',\n",
       " 'Address sizes': '44 bits physical, 48 bits virtual',\n",
       " 'CPU(s)': '16',\n",
       " 'On-line CPU(s) list': '0-15',\n",
       " 'Thread(s) per core': '2',\n",
       " 'Core(s) per socket': '8',\n",
       " 'Socket(s)': '1',\n",
       " 'NUMA node(s)': '1',\n",
       " 'Vendor ID': 'AuthenticAMD',\n",
       " 'CPU family': '23',\n",
       " 'Model': '96',\n",
       " 'Model name': 'AMD Ryzen 7 4800H with Radeon Graphics',\n",
       " 'Stepping': '1',\n",
       " 'Frequency boost': 'enabled',\n",
       " 'CPU MHz': '1700.000',\n",
       " 'CPU max MHz': '2900.0000',\n",
       " 'CPU min MHz': '1400.0000',\n",
       " 'BogoMIPS': '5789.05',\n",
       " 'Virtualization': 'AMD-V',\n",
       " 'L1d cache': '256 KiB',\n",
       " 'L1i cache': '256 KiB',\n",
       " 'L2 cache': '4 MiB',\n",
       " 'L3 cache': '8 MiB'}"
      ]
     },
     "execution_count": 43,
     "metadata": {},
     "output_type": "execute_result"
    }
   ],
   "source": [
    "dic={}\n",
    "x=output.split(\"\\n\")[0].split(\"\\\\\")\n",
    "for c,i in enumerate(x):\n",
    "    if c<25:\n",
    "        if c==0:\n",
    "            dic[i[3:].split(\":\")[0]]=i[3:].split(\":\")[1].strip() \n",
    "        if c!=0:\n",
    "            dic[i[1:].split(\":\")[0]]=i[1:].split(\":\")[1].strip()\n",
    "dic"
   ]
  },
  {
   "cell_type": "code",
   "execution_count": 1,
   "metadata": {},
   "outputs": [],
   "source": [
    "str=\"b'Architecture:        x86_64\\nCPU op-mode(s):      32-bit, 64-bit\\nByte Order:          Little Endian\\nCPU(s):              4\\nOn-line CPU(s) list: 0-3\\nThread(s) per core:  4\\nCore(s) per socket:  1\\nSocket(s):           1\\nNUMA node(s):        1\\nVendor ID:           GenuineIntel\\nCPU family:          6\\nModel:               45\\nModel name:          Intel(R) Xeon(R) CPU E5-2450 0 @ 2.10GHz\\nStepping:            7\\nCPU MHz:             2094.968\\nBogoMIPS:            4189.93\\nHypervisor vendor:   Xen\\nVirtualization type: para\\nL1d cache:           32K\\nL1i cache:           32K\\nL2 cache:            256K\\nL3 cache:            20480K\\nNUMA node0 CPU(s):   0-3\\nFlags:               fpu de tsc msr pae mce cx8 apic sep mca cmov pat clflush mmx fxsr sse sse2 ss ht syscall nx lm constant_tsc rep_good nopl cpuid pni pclmulqdq ssse3 cx16 sse4_1 sse4_2 popcnt aes xsave avx hypervisor lahf_lm xsaveopt\\n'\""
   ]
  },
  {
   "cell_type": "code",
   "execution_count": 20,
   "metadata": {},
   "outputs": [
    {
     "name": "stdout",
     "output_type": "stream",
     "text": [
      "b'Architecture:        x86_64\n",
      "CPU op-mode(s):      32-bit, 64-bit\n",
      "Byte Order:          Little Endian\n",
      "CPU(s):              4\n",
      "On-line CPU(s) list: 0-3\n",
      "Thread(s) per core:  4\n",
      "Core(s) per socket:  1\n",
      "Socket(s):           1\n",
      "NUMA node(s):        1\n",
      "Vendor ID:           GenuineIntel\n",
      "CPU family:          6\n",
      "Model:               45\n",
      "Model name:          Intel(R) Xeon(R) CPU E5-2450 0 @ 2.10GHz\n",
      "Stepping:            7\n",
      "CPU MHz:             2094.968\n",
      "BogoMIPS:            4189.93\n",
      "Hypervisor vendor:   Xen\n",
      "Virtualization type: para\n",
      "L1d cache:           32K\n",
      "L1i cache:           32K\n",
      "L2 cache:            256K\n",
      "L3 cache:            20480K\n",
      "NUMA node0 CPU(s):   0-3\n",
      "Flags:               fpu de tsc msr pae mce cx8 apic sep mca cmov pat clflush mmx fxsr sse sse2 ss ht syscall nx lm constant_tsc rep_good nopl cpuid pni pclmulqdq ssse3 cx16 sse4_1 sse4_2 popcnt aes xsave avx hypervisor lahf_lm xsaveopt\n",
      "'\n"
     ]
    }
   ],
   "source": [
    "dic={}\n",
    "x=str.split(\"\\n\")\n",
    "for c,i in enumerate(x):\n",
    "    print(i)\n",
    "    if c<22:\n",
    "        if c==0:\n",
    "            dic[i[2:].split(\":\")[0]]=i[3:].split(\":\")[1].strip() \n",
    "        if c!=0:\n",
    "            dic[i.split(\":\")[0]]=i[1:].split(\":\")[1].strip()\n",
    "# dic"
   ]
  },
  {
   "cell_type": "code",
   "execution_count": 2,
   "metadata": {},
   "outputs": [],
   "source": [
    "x=[\"b'              total        used        free      shared  buff/cache   available\", 'Mem:           1985         195         465           0        1324        1758', 'Swap:          1023           0        1023', \"'\"]\n"
   ]
  },
  {
   "cell_type": "code",
   "execution_count": 12,
   "metadata": {},
   "outputs": [
    {
     "name": "stdout",
     "output_type": "stream",
     "text": [
      "1985\n"
     ]
    }
   ],
   "source": [
    "for i in x[1:]:\n",
    "    print(i.split(\":\")[1].strip()[0:5].strip())\n",
    "    break"
   ]
  },
  {
   "cell_type": "code",
   "execution_count": null,
   "metadata": {},
   "outputs": [],
   "source": []
  }
 ],
 "metadata": {
  "interpreter": {
   "hash": "916dbcbb3f70747c44a77c7bcd40155683ae19c65e1c03b4aa3499c5328201f1"
  },
  "kernelspec": {
   "display_name": "Python 3.8.10 64-bit",
   "language": "python",
   "name": "python3"
  },
  "language_info": {
   "codemirror_mode": {
    "name": "ipython",
    "version": 3
   },
   "file_extension": ".py",
   "mimetype": "text/x-python",
   "name": "python",
   "nbconvert_exporter": "python",
   "pygments_lexer": "ipython3",
   "version": "3.8.10"
  },
  "orig_nbformat": 4
 },
 "nbformat": 4,
 "nbformat_minor": 2
}
